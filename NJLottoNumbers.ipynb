{
 "cells": [
  {
   "cell_type": "code",
   "execution_count": 66,
   "metadata": {},
   "outputs": [],
   "source": [
    "import requests\n",
    "from bs4 import BeautifulSoup\n",
    "import selenium\n",
    "from selenium.webdriver.common.by import By\n",
    "import pandas as pd\n",
    "import time\n",
    "from datetime import datetime\n",
    "import os\n",
    "\n",
    "from selenium.webdriver.support.wait import WebDriverWait\n",
    "from selenium.webdriver.support import expected_conditions as EC"
   ]
  },
  {
   "cell_type": "code",
   "execution_count": 65,
   "metadata": {},
   "outputs": [],
   "source": [
    "#\n",
    "\n",
    "#'cashpop',"
   ]
  },
  {
   "cell_type": "code",
   "execution_count": 67,
   "metadata": {},
   "outputs": [],
   "source": [
    "s=selenium.webdriver.ChromeService()\n",
    "driver=selenium.webdriver.Chrome(service=s)\n",
    "pick=[\"pick3\",'pick4','jerseycash','pick6lotto', 'cash4life','quickDraw']\n",
    "url=\"https://www.njlottery.com/en-us/drawgames/{game}.html\""
   ]
  },
  {
   "cell_type": "code",
   "execution_count": 68,
   "metadata": {},
   "outputs": [
    {
     "name": "stdout",
     "output_type": "stream",
     "text": [
      "pick3\n"
     ]
    },
    {
     "name": "stderr",
     "output_type": "stream",
     "text": [
      "C:\\Users\\Andrew\\AppData\\Local\\Temp\\ipykernel_13900\\695935422.py:27: FutureWarning: Passing literal html to 'read_html' is deprecated and will be removed in a future version. To read from a literal string, wrap it in a 'StringIO' object.\n",
      "  tableData=pd.read_html(table)\n"
     ]
    },
    {
     "name": "stdout",
     "output_type": "stream",
     "text": [
      "True\n",
      "pick4\n"
     ]
    },
    {
     "name": "stderr",
     "output_type": "stream",
     "text": [
      "C:\\Users\\Andrew\\AppData\\Local\\Temp\\ipykernel_13900\\695935422.py:27: FutureWarning: Passing literal html to 'read_html' is deprecated and will be removed in a future version. To read from a literal string, wrap it in a 'StringIO' object.\n",
      "  tableData=pd.read_html(table)\n"
     ]
    },
    {
     "name": "stdout",
     "output_type": "stream",
     "text": [
      "True\n",
      "jerseycash\n"
     ]
    },
    {
     "name": "stderr",
     "output_type": "stream",
     "text": [
      "C:\\Users\\Andrew\\AppData\\Local\\Temp\\ipykernel_13900\\695935422.py:27: FutureWarning: Passing literal html to 'read_html' is deprecated and will be removed in a future version. To read from a literal string, wrap it in a 'StringIO' object.\n",
      "  tableData=pd.read_html(table)\n"
     ]
    },
    {
     "name": "stdout",
     "output_type": "stream",
     "text": [
      "True\n",
      "pick6lotto\n"
     ]
    },
    {
     "name": "stderr",
     "output_type": "stream",
     "text": [
      "C:\\Users\\Andrew\\AppData\\Local\\Temp\\ipykernel_13900\\695935422.py:27: FutureWarning: Passing literal html to 'read_html' is deprecated and will be removed in a future version. To read from a literal string, wrap it in a 'StringIO' object.\n",
      "  tableData=pd.read_html(table)\n"
     ]
    },
    {
     "name": "stdout",
     "output_type": "stream",
     "text": [
      "True\n",
      "cash4life\n"
     ]
    },
    {
     "name": "stderr",
     "output_type": "stream",
     "text": [
      "C:\\Users\\Andrew\\AppData\\Local\\Temp\\ipykernel_13900\\695935422.py:27: FutureWarning: Passing literal html to 'read_html' is deprecated and will be removed in a future version. To read from a literal string, wrap it in a 'StringIO' object.\n",
      "  tableData=pd.read_html(table)\n"
     ]
    },
    {
     "name": "stdout",
     "output_type": "stream",
     "text": [
      "True\n",
      "quickDraw\n"
     ]
    },
    {
     "name": "stderr",
     "output_type": "stream",
     "text": [
      "C:\\Users\\Andrew\\AppData\\Local\\Temp\\ipykernel_13900\\695935422.py:27: FutureWarning: Passing literal html to 'read_html' is deprecated and will be removed in a future version. To read from a literal string, wrap it in a 'StringIO' object.\n",
      "  tableData=pd.read_html(table)\n"
     ]
    },
    {
     "name": "stdout",
     "output_type": "stream",
     "text": [
      "True\n"
     ]
    }
   ],
   "source": [
    "for i, game in enumerate(pick):\n",
    "    print(pick[i])\n",
    "    driver.get(url.format(game=pick[i]))\n",
    "\n",
    "    WebDriverWait(driver, 60).until(\n",
    "        EC.presence_of_element_located((By.ID, 'winningNumbersFBSearchResults'))\n",
    "    )\n",
    "\n",
    "    #print(table)\n",
    "\n",
    "    table=driver.find_element(By.ID,'winningNumbersFBSearchResults').get_attribute('innerHTML')\n",
    "    \n",
    "\n",
    "    if not table:\n",
    "        WebDriverWait(driver, 60).until(\n",
    "            EC.presence_of_element_located((By.ID, 'winningNumbersSearchResults'))\n",
    "        )\n",
    "        table=driver.find_element(By.ID,'winningNumbersSearchResults').get_attribute('innerHTML')\n",
    "    \n",
    "    if not table:\n",
    "        WebDriverWait(driver, 60).until(\n",
    "            EC.presence_of_element_located((By.ID, 'winningNumbersKenoSearchResults'))\n",
    "        )\n",
    "        table=driver.find_element(By.ID,'winningNumbersKenoSearchResults').get_attribute('innerHTML')\n",
    "    \n",
    "\n",
    "    tableData=pd.read_html(table)\n",
    "\n",
    "    tableData=tableData[0]\n",
    "    _path = os.path.join(\"data\", game+\".csv\")\n",
    "    _exists = os.path.exists(_path)\n",
    "\n",
    "    if _exists:\n",
    "        oldData=pd.read_csv(_path)\n",
    "        tableData = pd.concat([oldData,tableData])\n",
    "        tableData.drop_duplicates(inplace=True)\n",
    "    print(_exists)\n",
    "    tableData.to_csv(_path, index=False, mode=\"a\" if _exists else \"w\", header=not _exists)\n",
    "\n",
    "driver.close()"
   ]
  }
 ],
 "metadata": {
  "kernelspec": {
   "display_name": "Python 3",
   "language": "python",
   "name": "python3"
  },
  "language_info": {
   "codemirror_mode": {
    "name": "ipython",
    "version": 3
   },
   "file_extension": ".py",
   "mimetype": "text/x-python",
   "name": "python",
   "nbconvert_exporter": "python",
   "pygments_lexer": "ipython3",
   "version": "3.10.11"
  }
 },
 "nbformat": 4,
 "nbformat_minor": 2
}
